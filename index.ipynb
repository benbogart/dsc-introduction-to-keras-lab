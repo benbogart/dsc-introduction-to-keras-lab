{
 "cells": [
  {
   "cell_type": "markdown",
   "metadata": {},
   "source": [
    "# Keras - Lab\n",
    "\n",
    "## Introduction\n",
    "\n",
    "In this lab you'll once again build a neural network, but this time you will be using Keras to do a lot of the heavy lifting.\n",
    "\n",
    "\n",
    "## Objectives\n",
    "\n",
    "You will be able to:\n",
    "\n",
    "- Build a neural network using Keras \n",
    "- Evaluate performance of a neural network using Keras "
   ]
  },
  {
   "cell_type": "markdown",
   "metadata": {},
   "source": [
    "## Required Packages\n",
    "\n",
    "We'll start by importing all of the required packages and classes."
   ]
  },
  {
   "cell_type": "code",
   "execution_count": 1,
   "metadata": {},
   "outputs": [],
   "source": [
    "import matplotlib.pyplot as plt\n",
    "import pandas as pd\n",
    "import numpy as np\n",
    "import random\n",
    "from sklearn.model_selection import train_test_split\n",
    "from keras.utils.np_utils import to_categorical\n",
    "from sklearn import preprocessing\n",
    "from keras.preprocessing.text import Tokenizer\n",
    "from keras import models\n",
    "from keras import layers\n",
    "from keras import optimizers"
   ]
  },
  {
   "cell_type": "markdown",
   "metadata": {},
   "source": [
    "## Load the data\n",
    "\n",
    "In this lab you will be classifying bank complaints available in the `'Bank_complaints.csv'` file. "
   ]
  },
  {
   "cell_type": "code",
   "execution_count": 2,
   "metadata": {},
   "outputs": [
    {
     "name": "stdout",
     "output_type": "stream",
     "text": [
      "<class 'pandas.core.frame.DataFrame'>\n",
      "RangeIndex: 60000 entries, 0 to 59999\n",
      "Data columns (total 2 columns):\n",
      " #   Column                        Non-Null Count  Dtype \n",
      "---  ------                        --------------  ----- \n",
      " 0   Product                       60000 non-null  object\n",
      " 1   Consumer complaint narrative  60000 non-null  object\n",
      "dtypes: object(2)\n",
      "memory usage: 937.6+ KB\n",
      "None\n"
     ]
    },
    {
     "data": {
      "text/html": [
       "<div>\n",
       "<style scoped>\n",
       "    .dataframe tbody tr th:only-of-type {\n",
       "        vertical-align: middle;\n",
       "    }\n",
       "\n",
       "    .dataframe tbody tr th {\n",
       "        vertical-align: top;\n",
       "    }\n",
       "\n",
       "    .dataframe thead th {\n",
       "        text-align: right;\n",
       "    }\n",
       "</style>\n",
       "<table border=\"1\" class=\"dataframe\">\n",
       "  <thead>\n",
       "    <tr style=\"text-align: right;\">\n",
       "      <th></th>\n",
       "      <th>Product</th>\n",
       "      <th>Consumer complaint narrative</th>\n",
       "    </tr>\n",
       "  </thead>\n",
       "  <tbody>\n",
       "    <tr>\n",
       "      <th>0</th>\n",
       "      <td>Student loan</td>\n",
       "      <td>In XX/XX/XXXX I filled out the Fedlaon applica...</td>\n",
       "    </tr>\n",
       "    <tr>\n",
       "      <th>1</th>\n",
       "      <td>Student loan</td>\n",
       "      <td>I am being contacted by a debt collector for p...</td>\n",
       "    </tr>\n",
       "    <tr>\n",
       "      <th>2</th>\n",
       "      <td>Student loan</td>\n",
       "      <td>I cosigned XXXX student loans at SallieMae for...</td>\n",
       "    </tr>\n",
       "    <tr>\n",
       "      <th>3</th>\n",
       "      <td>Student loan</td>\n",
       "      <td>Navient has sytematically and illegally failed...</td>\n",
       "    </tr>\n",
       "    <tr>\n",
       "      <th>4</th>\n",
       "      <td>Student loan</td>\n",
       "      <td>My wife became eligible for XXXX Loan Forgiven...</td>\n",
       "    </tr>\n",
       "  </tbody>\n",
       "</table>\n",
       "</div>"
      ],
      "text/plain": [
       "        Product                       Consumer complaint narrative\n",
       "0  Student loan  In XX/XX/XXXX I filled out the Fedlaon applica...\n",
       "1  Student loan  I am being contacted by a debt collector for p...\n",
       "2  Student loan  I cosigned XXXX student loans at SallieMae for...\n",
       "3  Student loan  Navient has sytematically and illegally failed...\n",
       "4  Student loan  My wife became eligible for XXXX Loan Forgiven..."
      ]
     },
     "execution_count": 2,
     "metadata": {},
     "output_type": "execute_result"
    }
   ],
   "source": [
    "# Import data\n",
    "df = pd.read_csv('Bank_complaints.csv')\n",
    "\n",
    "# Inspect data\n",
    "print(df.info())\n",
    "df.head()"
   ]
  },
  {
   "cell_type": "markdown",
   "metadata": {},
   "source": [
    "As mentioned earlier, your task is to categorize banking complaints into various predefined categories. Preview what these categories are and what percent of the complaints each accounts for. "
   ]
  },
  {
   "cell_type": "code",
   "execution_count": 3,
   "metadata": {},
   "outputs": [
    {
     "data": {
      "text/plain": [
       "Student loan                   0.190067\n",
       "Credit card                    0.159000\n",
       "Consumer Loan                  0.157900\n",
       "Mortgage                       0.138867\n",
       "Bank account or service        0.138483\n",
       "Credit reporting               0.114400\n",
       "Checking or savings account    0.101283\n",
       "Name: Product, dtype: float64"
      ]
     },
     "execution_count": 3,
     "metadata": {},
     "output_type": "execute_result"
    }
   ],
   "source": [
    "# Your code here\n",
    "df['Product'].value_counts(normalize=True)"
   ]
  },
  {
   "cell_type": "markdown",
   "metadata": {},
   "source": [
    "## Preprocessing\n",
    "\n",
    "Before we build our neural network, we need to do several preprocessing steps. First, we will create word vector counts (a bag of words type representation) of our complaints text. Next, we will change the category labels to integers. Finally, we will perform our usual train-test split before building and training our neural network using Keras. With that, let's start munging our data! \n",
    "\n",
    "## One-hot encoding of the complaints\n",
    "\n",
    "Our first step again is to transform our textual data into a numerical representation. As we saw in some of our previous lessons on NLP, there are many ways to do this. Here, we'll use the `Tokenizer()` class from the `preprocessing.text` sub-module of the Keras package.   \n",
    "\n",
    "As with our previous work using NLTK, this will transform our text complaints into word vectors. (Note that the method of creating a vector is different from our previous work with NLTK; as you'll see, word order will be preserved as opposed to a bag of words representation). In the below code, we'll only keep the 2,000 most common words and use one-hot encoding. \n",
    "\n"
   ]
  },
  {
   "cell_type": "code",
   "execution_count": 4,
   "metadata": {},
   "outputs": [],
   "source": [
    "# As a quick preliminary, briefly review the docstring for keras.preprocessing.text.Tokenizer\n",
    "Tokenizer?"
   ]
  },
  {
   "cell_type": "code",
   "execution_count": 5,
   "metadata": {},
   "outputs": [
    {
     "name": "stdout",
     "output_type": "stream",
     "text": [
      "sequences type: <class 'list'>\n",
      "one_hot_results type: <class 'numpy.ndarray'>\n",
      "Found 50110 unique tokens.\n",
      "Dimensions of our coded results: (60000, 2000)\n"
     ]
    }
   ],
   "source": [
    "# ⏰ This cell may take about thirty seconds to run\n",
    "\n",
    "# Raw text complaints\n",
    "complaints = df['Consumer complaint narrative'] \n",
    "\n",
    "# Initialize a tokenizer \n",
    "tokenizer = Tokenizer(num_words=2000) \n",
    "\n",
    "# Fit it to the complaints\n",
    "tokenizer.fit_on_texts(complaints) \n",
    "\n",
    "# Generate sequences\n",
    "sequences = tokenizer.texts_to_sequences(complaints) \n",
    "print('sequences type:', type(sequences))\n",
    "\n",
    "# Similar to sequences, but returns a numpy array\n",
    "one_hot_results= tokenizer.texts_to_matrix(complaints, mode='binary') \n",
    "print('one_hot_results type:', type(one_hot_results))\n",
    "\n",
    "# Useful if we wish to decode (more explanation below)\n",
    "word_index = tokenizer.word_index \n",
    "\n",
    "# Tokens are the number of unique words across the corpus\n",
    "print('Found %s unique tokens.' % len(word_index)) \n",
    "\n",
    "# Our coded data\n",
    "print('Dimensions of our coded results:', np.shape(one_hot_results)) "
   ]
  },
  {
   "cell_type": "markdown",
   "metadata": {},
   "source": [
    "## Decoding Word Vectors \n",
    "\n",
    "As a note, you can also decode these vectorized representations of the reviews. The `word_index` variable, defined above, stores the mapping from the label number to the actual word. Somewhat tediously, we can turn this dictionary inside out and map it back to our word vectors, giving us roughly the original complaint back. (As you'll see, the text won't be identical as we limited ourselves to top 2000 words.)\n",
    "\n",
    "## Python Review / Mini Challenge\n",
    "\n",
    "While a bit tangential to our main topic of interest, we need to reverse our current dictionary `word_index` which maps words from our corpus to integers. In decoding our `one_hot_results`, we will need to create a dictionary of these integers to the original words. Below, take the `word_index` dictionary object and change the orientation so that the values are keys and the keys values. In other words, you are transforming something of the form {A:1, B:2, C:3} to {1:A, 2:B, 3:C}. "
   ]
  },
  {
   "cell_type": "code",
   "execution_count": 7,
   "metadata": {},
   "outputs": [],
   "source": [
    "# Your code here\n",
    "reverse_index = {v: k for k, v in word_index.items()}"
   ]
  },
  {
   "cell_type": "markdown",
   "metadata": {},
   "source": [
    "## Back to Decoding Our Word Vectors..."
   ]
  },
  {
   "cell_type": "code",
   "execution_count": 10,
   "metadata": {},
   "outputs": [
    {
     "name": "stdout",
     "output_type": "stream",
     "text": [
      "Original complaint text:\n",
      "I have already filed several complaints about AES/PHEAA. I was notified by a XXXX XXXX let @ XXXX, who pretended to be from your office, he said he was from CFPB. I found out this morning he is n't from your office, but is actually works at XXXX. \n",
      "\n",
      "This has wasted weeks of my time. They AES/PHEAA confirmed and admitted ( see attached transcript of XXXX, conversation at XXXX ( XXXX ) with XXXX that proves they verified the loans are not mine ) the student loans they had XXXX, and collected on, and reported negate credit reporting in my name are in fact, not mine. \n",
      "They conclued their investigation on XXXX admitting they made a mistake and have my name on soneone elses loans. I these XXXX loans total {$10000.00}, original amount. My XXXX loans I got was total {$3500.00}. We proved by providing AES/PHEAA, this with my original promissary notes I located recently, the XXXX of my college provided AES/PHEAA with their original shoeinf amounts of my XXXX loans which show different dates and amounts, the dates and amounts are not even close to matching these loans they have in my name, The original lender, XXXX XXXX Bank notifying AES/PHEAA, they never issued me a student loan, and original Loan Guarantor, XXXX, notifying AES/PHEAA, they never were guarantor of my loans. \n",
      "\n",
      "XXXX straight forward. But today, this person, XXXX XXXX, told me they know these loans are not mine, and they refuse to remove my name off these XXXX loan 's and correct their mistake, essentially forcing me to pay these loans off, bucause in XXXX they sold the loans to XXXX loans. \n",
      "\n",
      "This is absurd, first protruding to be this office, and then refusing to correct their mistake. \n",
      "\n",
      "Please for the love of XXXX will soneone from your office call me at XXXX, today. I am a XXXX vet and they are knowingly discriminating against me. \n",
      "Pretending to be you.\n",
      "\n",
      "\n",
      "\n",
      "Decoded review from Tokenizer:\n",
      "i have already filed several complaints about aes i was notified by a xxxx xxxx let xxxx who to be from your office he said he was from cfpb i found out this morning he is n't from your office but is actually works at xxxx this has weeks of my time they aes confirmed and admitted see attached of xxxx conversation at xxxx xxxx with xxxx that they verified the loans are not mine the student loans they had xxxx and on and reported credit reporting in my name are in fact not mine they their investigation on xxxx they made a mistake and have my name on loans i these xxxx loans total 10000 00 original amount my xxxx loans i got was total 00 we by providing aes this with my original notes i located recently the xxxx of my college provided aes with their original amounts of my xxxx loans which show different dates and amounts the dates and amounts are not even close to these loans they have in my name the original lender xxxx xxxx bank notifying aes they never issued me a student loan and original loan xxxx notifying aes they never were of my loans xxxx forward but today this person xxxx xxxx told me they know these loans are not mine and they refuse to remove my name off these xxxx loan 's and correct their mistake essentially me to pay these loans off in xxxx they sold the loans to xxxx loans this is first to be this office and then refusing to correct their mistake please for the of xxxx will from your office call me at xxxx today i am a xxxx and they are against me to be you\n"
     ]
    }
   ],
   "source": [
    "comment_idx_to_preview = 19\n",
    "print('Original complaint text:')\n",
    "print(complaints[comment_idx_to_preview])\n",
    "print('\\n\\n')\n",
    "\n",
    "# The reverse_index cell block above must be complete in order for this cell block to successively execute \n",
    "decoded_review = ' '.join([reverse_index.get(i) for i in sequences[comment_idx_to_preview]])\n",
    "print('Decoded review from Tokenizer:')\n",
    "print(decoded_review)"
   ]
  },
  {
   "cell_type": "markdown",
   "metadata": {},
   "source": [
    "## Convert the Products to Numerical Categories\n",
    "\n",
    "On to step two of our preprocessing: converting our descriptive categories into integers."
   ]
  },
  {
   "cell_type": "code",
   "execution_count": 11,
   "metadata": {},
   "outputs": [
    {
     "name": "stdout",
     "output_type": "stream",
     "text": [
      "Original class labels:\n",
      "['Bank account or service', 'Checking or savings account', 'Consumer Loan', 'Credit card', 'Credit reporting', 'Mortgage', 'Student loan']\n",
      "\n",
      "\n",
      "New product labels:\n",
      "[6 6 6 ... 4 4 4]\n",
      "\n",
      "\n",
      "One hot labels; 7 binary columns, one for each of the categories.\n",
      "[[0. 0. 0. ... 0. 0. 1.]\n",
      " [0. 0. 0. ... 0. 0. 1.]\n",
      " [0. 0. 0. ... 0. 0. 1.]\n",
      " ...\n",
      " [0. 0. 0. ... 1. 0. 0.]\n",
      " [0. 0. 0. ... 1. 0. 0.]\n",
      " [0. 0. 0. ... 1. 0. 0.]]\n",
      "\n",
      "\n",
      "One hot labels shape:\n",
      "(60000, 7)\n"
     ]
    }
   ],
   "source": [
    "product = df['Product']\n",
    "\n",
    "# Initialize\n",
    "le = preprocessing.LabelEncoder() \n",
    "le.fit(product)\n",
    "print('Original class labels:')\n",
    "print(list(le.classes_))\n",
    "print('\\n')\n",
    "product_cat = le.transform(product)  \n",
    "\n",
    "# If you wish to retrieve the original descriptive labels post production\n",
    "# list(le.inverse_transform([0, 1, 3, 3, 0, 6, 4])) \n",
    "\n",
    "print('New product labels:')\n",
    "print(product_cat)\n",
    "print('\\n')\n",
    "\n",
    "# Each row will be all zeros except for the category for that observation \n",
    "print('One hot labels; 7 binary columns, one for each of the categories.') \n",
    "product_onehot = to_categorical(product_cat)\n",
    "print(product_onehot)\n",
    "print('\\n')\n",
    "\n",
    "print('One hot labels shape:')\n",
    "print(np.shape(product_onehot))"
   ]
  },
  {
   "cell_type": "markdown",
   "metadata": {},
   "source": [
    "## Train-test split\n",
    "\n",
    "Now for our final preprocessing step: the usual train-test split. "
   ]
  },
  {
   "cell_type": "code",
   "execution_count": 12,
   "metadata": {},
   "outputs": [
    {
     "name": "stdout",
     "output_type": "stream",
     "text": [
      "Test label shape: (1500, 7)\n",
      "Train label shape: (58500, 7)\n",
      "Test shape: (1500, 2000)\n",
      "Train shape: (58500, 2000)\n"
     ]
    }
   ],
   "source": [
    "random.seed(123)\n",
    "test_index = random.sample(range(1,10000), 1500)\n",
    "\n",
    "test = one_hot_results[test_index]\n",
    "train = np.delete(one_hot_results, test_index, 0)\n",
    "\n",
    "label_test = product_onehot[test_index]\n",
    "label_train = np.delete(product_onehot, test_index, 0)\n",
    "\n",
    "print('Test label shape:', np.shape(label_test))\n",
    "print('Train label shape:', np.shape(label_train))\n",
    "print('Test shape:', np.shape(test))\n",
    "print('Train shape:', np.shape(train))"
   ]
  },
  {
   "cell_type": "markdown",
   "metadata": {},
   "source": [
    "## Building the network\n",
    "\n",
    "Let's build a fully connected (Dense) layer network with relu activation in Keras. You can do this using: `Dense(16, activation='relu')`. \n",
    "\n",
    "In this example, use two hidden layers with 50 units in the first layer and 25 in the second, both with a `'relu'` activation function. Because we are dealing with a multiclass problem (classifying the complaints into 7 categories), we use a use a `'softmax'` classifier in order to output 7 class probabilities per case.  "
   ]
  },
  {
   "cell_type": "code",
   "execution_count": 26,
   "metadata": {},
   "outputs": [],
   "source": [
    "# Initialize a sequential model\n",
    "model = models.Sequential()\n",
    "\n",
    "# Two layers with relu activation\n",
    "model.add(layers.Dense(50, activation='relu'))\n",
    "model.add(layers.Dense(25, activation='relu'))\n",
    "\n",
    "# One layer with softmax activation \n",
    "model.add(layers.Dense(7, activation='softmax'))"
   ]
  },
  {
   "cell_type": "markdown",
   "metadata": {},
   "source": [
    "## Compiling the model\n",
    "\n",
    "Now, compile the model! This time, use `'categorical_crossentropy'` as the loss function and stochastic gradient descent, `'SGD'` as the optimizer. As in the previous lesson, include the accuracy as a metric."
   ]
  },
  {
   "cell_type": "code",
   "execution_count": 27,
   "metadata": {},
   "outputs": [],
   "source": [
    "# Compile the model\n",
    "model.compile(loss='categorical_crossentropy',\n",
    "              optimizer='SGD',\n",
    "              metrics=['accuracy'])"
   ]
  },
  {
   "cell_type": "markdown",
   "metadata": {},
   "source": [
    "## Training the model\n",
    "\n",
    "In the compiler, you'll be passing the optimizer (SGD = stochastic gradient descent), loss function, and metrics. Train the model for 120 epochs in mini-batches of 256 samples.\n",
    "\n",
    "_Note:_ ⏰ _Your code may take about one to two minutes to run._"
   ]
  },
  {
   "cell_type": "code",
   "execution_count": 28,
   "metadata": {},
   "outputs": [
    {
     "name": "stdout",
     "output_type": "stream",
     "text": [
      "Epoch 1/120\n",
      "229/229 [==============================] - 0s 2ms/step - loss: 1.8427 - accuracy: 0.2734\n",
      "Epoch 2/120\n",
      "229/229 [==============================] - 0s 2ms/step - loss: 1.5413 - accuracy: 0.4822\n",
      "Epoch 3/120\n",
      "229/229 [==============================] - 0s 2ms/step - loss: 1.2411 - accuracy: 0.6022\n",
      "Epoch 4/120\n",
      "229/229 [==============================] - 0s 2ms/step - loss: 1.0190 - accuracy: 0.6593\n",
      "Epoch 5/120\n",
      "229/229 [==============================] - 0s 2ms/step - loss: 0.8810 - accuracy: 0.6909\n",
      "Epoch 6/120\n",
      "229/229 [==============================] - 0s 2ms/step - loss: 0.7973 - accuracy: 0.7118\n",
      "Epoch 7/120\n",
      "229/229 [==============================] - 0s 2ms/step - loss: 0.7418 - accuracy: 0.7283\n",
      "Epoch 8/120\n",
      "229/229 [==============================] - 0s 2ms/step - loss: 0.7019 - accuracy: 0.7418\n",
      "Epoch 9/120\n",
      "229/229 [==============================] - 0s 2ms/step - loss: 0.6715 - accuracy: 0.7516\n",
      "Epoch 10/120\n",
      "229/229 [==============================] - 0s 2ms/step - loss: 0.6471 - accuracy: 0.7609\n",
      "Epoch 11/120\n",
      "229/229 [==============================] - 0s 2ms/step - loss: 0.6269 - accuracy: 0.7682\n",
      "Epoch 12/120\n",
      "229/229 [==============================] - 0s 2ms/step - loss: 0.6095 - accuracy: 0.7745\n",
      "Epoch 13/120\n",
      "229/229 [==============================] - 0s 2ms/step - loss: 0.5948 - accuracy: 0.7804\n",
      "Epoch 14/120\n",
      "229/229 [==============================] - 0s 2ms/step - loss: 0.5813 - accuracy: 0.7863\n",
      "Epoch 15/120\n",
      "229/229 [==============================] - 0s 2ms/step - loss: 0.5699 - accuracy: 0.7905\n",
      "Epoch 16/120\n",
      "229/229 [==============================] - 0s 2ms/step - loss: 0.5593 - accuracy: 0.7940\n",
      "Epoch 17/120\n",
      "229/229 [==============================] - 0s 2ms/step - loss: 0.5496 - accuracy: 0.7989\n",
      "Epoch 18/120\n",
      "229/229 [==============================] - 0s 2ms/step - loss: 0.5408 - accuracy: 0.8024\n",
      "Epoch 19/120\n",
      "229/229 [==============================] - 0s 2ms/step - loss: 0.5324 - accuracy: 0.8055\n",
      "Epoch 20/120\n",
      "229/229 [==============================] - 0s 2ms/step - loss: 0.5249 - accuracy: 0.8094\n",
      "Epoch 21/120\n",
      "229/229 [==============================] - 0s 2ms/step - loss: 0.5176 - accuracy: 0.8129\n",
      "Epoch 22/120\n",
      "229/229 [==============================] - 0s 2ms/step - loss: 0.5112 - accuracy: 0.8144\n",
      "Epoch 23/120\n",
      "229/229 [==============================] - 0s 2ms/step - loss: 0.5051 - accuracy: 0.8161\n",
      "Epoch 24/120\n",
      "229/229 [==============================] - 0s 2ms/step - loss: 0.4994 - accuracy: 0.8197\n",
      "Epoch 25/120\n",
      "229/229 [==============================] - 0s 2ms/step - loss: 0.4938 - accuracy: 0.8213\n",
      "Epoch 26/120\n",
      "229/229 [==============================] - 0s 2ms/step - loss: 0.4885 - accuracy: 0.8235\n",
      "Epoch 27/120\n",
      "229/229 [==============================] - 0s 2ms/step - loss: 0.4837 - accuracy: 0.8256\n",
      "Epoch 28/120\n",
      "229/229 [==============================] - 0s 2ms/step - loss: 0.4791 - accuracy: 0.8274\n",
      "Epoch 29/120\n",
      "229/229 [==============================] - 0s 2ms/step - loss: 0.4747 - accuracy: 0.8293\n",
      "Epoch 30/120\n",
      "229/229 [==============================] - 0s 2ms/step - loss: 0.4703 - accuracy: 0.8309\n",
      "Epoch 31/120\n",
      "229/229 [==============================] - 0s 2ms/step - loss: 0.4665 - accuracy: 0.8313\n",
      "Epoch 32/120\n",
      "229/229 [==============================] - 0s 2ms/step - loss: 0.4623 - accuracy: 0.8341\n",
      "Epoch 33/120\n",
      "229/229 [==============================] - 0s 2ms/step - loss: 0.4588 - accuracy: 0.8358\n",
      "Epoch 34/120\n",
      "229/229 [==============================] - 0s 2ms/step - loss: 0.4553 - accuracy: 0.8371\n",
      "Epoch 35/120\n",
      "229/229 [==============================] - 0s 2ms/step - loss: 0.4520 - accuracy: 0.8389\n",
      "Epoch 36/120\n",
      "229/229 [==============================] - 0s 2ms/step - loss: 0.4490 - accuracy: 0.8395\n",
      "Epoch 37/120\n",
      "229/229 [==============================] - 0s 2ms/step - loss: 0.4458 - accuracy: 0.8403\n",
      "Epoch 38/120\n",
      "229/229 [==============================] - 0s 2ms/step - loss: 0.4424 - accuracy: 0.8417\n",
      "Epoch 39/120\n",
      "229/229 [==============================] - 0s 2ms/step - loss: 0.4398 - accuracy: 0.8436\n",
      "Epoch 40/120\n",
      "229/229 [==============================] - 0s 2ms/step - loss: 0.4369 - accuracy: 0.8446\n",
      "Epoch 41/120\n",
      "229/229 [==============================] - 0s 2ms/step - loss: 0.4341 - accuracy: 0.8452\n",
      "Epoch 42/120\n",
      "229/229 [==============================] - 0s 2ms/step - loss: 0.4319 - accuracy: 0.8455\n",
      "Epoch 43/120\n",
      "229/229 [==============================] - 0s 2ms/step - loss: 0.4292 - accuracy: 0.8475\n",
      "Epoch 44/120\n",
      "229/229 [==============================] - 0s 2ms/step - loss: 0.4265 - accuracy: 0.8484\n",
      "Epoch 45/120\n",
      "229/229 [==============================] - 0s 2ms/step - loss: 0.4244 - accuracy: 0.8492\n",
      "Epoch 46/120\n",
      "229/229 [==============================] - 0s 2ms/step - loss: 0.4219 - accuracy: 0.8499\n",
      "Epoch 47/120\n",
      "229/229 [==============================] - 0s 2ms/step - loss: 0.4200 - accuracy: 0.8502\n",
      "Epoch 48/120\n",
      "229/229 [==============================] - 0s 2ms/step - loss: 0.4176 - accuracy: 0.8512\n",
      "Epoch 49/120\n",
      "229/229 [==============================] - 0s 2ms/step - loss: 0.4155 - accuracy: 0.8521\n",
      "Epoch 50/120\n",
      "229/229 [==============================] - 0s 2ms/step - loss: 0.4135 - accuracy: 0.8534\n",
      "Epoch 51/120\n",
      "229/229 [==============================] - 0s 2ms/step - loss: 0.4116 - accuracy: 0.8534\n",
      "Epoch 52/120\n",
      "229/229 [==============================] - 0s 2ms/step - loss: 0.4094 - accuracy: 0.8552\n",
      "Epoch 53/120\n",
      "229/229 [==============================] - 0s 2ms/step - loss: 0.4077 - accuracy: 0.8543\n",
      "Epoch 54/120\n",
      "229/229 [==============================] - 0s 2ms/step - loss: 0.4055 - accuracy: 0.8559\n",
      "Epoch 55/120\n",
      "229/229 [==============================] - 0s 2ms/step - loss: 0.4042 - accuracy: 0.8572\n",
      "Epoch 56/120\n",
      "229/229 [==============================] - 0s 2ms/step - loss: 0.4024 - accuracy: 0.8574\n",
      "Epoch 57/120\n",
      "229/229 [==============================] - 0s 2ms/step - loss: 0.4006 - accuracy: 0.8585\n",
      "Epoch 58/120\n",
      "229/229 [==============================] - 0s 2ms/step - loss: 0.3987 - accuracy: 0.8585\n",
      "Epoch 59/120\n",
      "229/229 [==============================] - 0s 2ms/step - loss: 0.3973 - accuracy: 0.8598\n",
      "Epoch 60/120\n",
      "229/229 [==============================] - 0s 2ms/step - loss: 0.3956 - accuracy: 0.8598\n",
      "Epoch 61/120\n",
      "229/229 [==============================] - 0s 2ms/step - loss: 0.3942 - accuracy: 0.8608\n",
      "Epoch 62/120\n",
      "229/229 [==============================] - 0s 2ms/step - loss: 0.3925 - accuracy: 0.8610\n",
      "Epoch 63/120\n",
      "229/229 [==============================] - 0s 2ms/step - loss: 0.3909 - accuracy: 0.8613\n",
      "Epoch 64/120\n",
      "229/229 [==============================] - 0s 2ms/step - loss: 0.3895 - accuracy: 0.8619\n",
      "Epoch 65/120\n",
      "229/229 [==============================] - 0s 2ms/step - loss: 0.3880 - accuracy: 0.8626\n",
      "Epoch 66/120\n",
      "229/229 [==============================] - 0s 2ms/step - loss: 0.3861 - accuracy: 0.8632\n",
      "Epoch 67/120\n",
      "229/229 [==============================] - 0s 2ms/step - loss: 0.3852 - accuracy: 0.8630\n",
      "Epoch 68/120\n",
      "229/229 [==============================] - 0s 2ms/step - loss: 0.3837 - accuracy: 0.8633\n",
      "Epoch 69/120\n",
      "229/229 [==============================] - 0s 2ms/step - loss: 0.3825 - accuracy: 0.8643\n",
      "Epoch 70/120\n",
      "229/229 [==============================] - 0s 2ms/step - loss: 0.3810 - accuracy: 0.8656\n",
      "Epoch 71/120\n",
      "229/229 [==============================] - 0s 2ms/step - loss: 0.3794 - accuracy: 0.8657\n",
      "Epoch 72/120\n",
      "229/229 [==============================] - 0s 2ms/step - loss: 0.3786 - accuracy: 0.8656\n",
      "Epoch 73/120\n",
      "229/229 [==============================] - 0s 2ms/step - loss: 0.3769 - accuracy: 0.8667\n",
      "Epoch 74/120\n",
      "229/229 [==============================] - 0s 2ms/step - loss: 0.3759 - accuracy: 0.8674\n",
      "Epoch 75/120\n",
      "229/229 [==============================] - 0s 2ms/step - loss: 0.3745 - accuracy: 0.8671\n",
      "Epoch 76/120\n",
      "229/229 [==============================] - 0s 2ms/step - loss: 0.3736 - accuracy: 0.8675\n",
      "Epoch 77/120\n",
      "229/229 [==============================] - 0s 2ms/step - loss: 0.3723 - accuracy: 0.8684\n",
      "Epoch 78/120\n",
      "229/229 [==============================] - 0s 2ms/step - loss: 0.3710 - accuracy: 0.8687\n",
      "Epoch 79/120\n",
      "229/229 [==============================] - 0s 2ms/step - loss: 0.3698 - accuracy: 0.8697\n",
      "Epoch 80/120\n",
      "229/229 [==============================] - 0s 2ms/step - loss: 0.3687 - accuracy: 0.8700\n",
      "Epoch 81/120\n"
     ]
    },
    {
     "name": "stdout",
     "output_type": "stream",
     "text": [
      "229/229 [==============================] - 0s 2ms/step - loss: 0.3673 - accuracy: 0.8702\n",
      "Epoch 82/120\n",
      "229/229 [==============================] - 0s 2ms/step - loss: 0.3661 - accuracy: 0.8703\n",
      "Epoch 83/120\n",
      "229/229 [==============================] - 0s 2ms/step - loss: 0.3651 - accuracy: 0.8704\n",
      "Epoch 84/120\n",
      "229/229 [==============================] - 0s 2ms/step - loss: 0.3640 - accuracy: 0.8709\n",
      "Epoch 85/120\n",
      "229/229 [==============================] - 0s 2ms/step - loss: 0.3626 - accuracy: 0.8718\n",
      "Epoch 86/120\n",
      "229/229 [==============================] - 0s 2ms/step - loss: 0.3615 - accuracy: 0.8720\n",
      "Epoch 87/120\n",
      "229/229 [==============================] - 0s 2ms/step - loss: 0.3606 - accuracy: 0.8718\n",
      "Epoch 88/120\n",
      "229/229 [==============================] - 0s 2ms/step - loss: 0.3592 - accuracy: 0.8729\n",
      "Epoch 89/120\n",
      "229/229 [==============================] - 0s 2ms/step - loss: 0.3585 - accuracy: 0.8727\n",
      "Epoch 90/120\n",
      "229/229 [==============================] - 0s 2ms/step - loss: 0.3571 - accuracy: 0.8741\n",
      "Epoch 91/120\n",
      "229/229 [==============================] - 0s 2ms/step - loss: 0.3564 - accuracy: 0.8739\n",
      "Epoch 92/120\n",
      "229/229 [==============================] - 0s 2ms/step - loss: 0.3551 - accuracy: 0.8743\n",
      "Epoch 93/120\n",
      "229/229 [==============================] - 0s 2ms/step - loss: 0.3545 - accuracy: 0.8741\n",
      "Epoch 94/120\n",
      "229/229 [==============================] - 0s 2ms/step - loss: 0.3532 - accuracy: 0.8746\n",
      "Epoch 95/120\n",
      "229/229 [==============================] - 0s 2ms/step - loss: 0.3521 - accuracy: 0.8761\n",
      "Epoch 96/120\n",
      "229/229 [==============================] - 0s 2ms/step - loss: 0.3509 - accuracy: 0.8762\n",
      "Epoch 97/120\n",
      "229/229 [==============================] - 0s 2ms/step - loss: 0.3498 - accuracy: 0.8758\n",
      "Epoch 98/120\n",
      "229/229 [==============================] - 0s 2ms/step - loss: 0.3487 - accuracy: 0.8772\n",
      "Epoch 99/120\n",
      "229/229 [==============================] - 0s 2ms/step - loss: 0.3477 - accuracy: 0.8772\n",
      "Epoch 100/120\n",
      "229/229 [==============================] - 0s 2ms/step - loss: 0.3467 - accuracy: 0.8773\n",
      "Epoch 101/120\n",
      "229/229 [==============================] - 0s 2ms/step - loss: 0.3460 - accuracy: 0.8770\n",
      "Epoch 102/120\n",
      "229/229 [==============================] - 0s 2ms/step - loss: 0.3449 - accuracy: 0.8778\n",
      "Epoch 103/120\n",
      "229/229 [==============================] - 0s 2ms/step - loss: 0.3436 - accuracy: 0.8786\n",
      "Epoch 104/120\n",
      "229/229 [==============================] - 0s 2ms/step - loss: 0.3429 - accuracy: 0.8785\n",
      "Epoch 105/120\n",
      "229/229 [==============================] - 0s 2ms/step - loss: 0.3418 - accuracy: 0.8785\n",
      "Epoch 106/120\n",
      "229/229 [==============================] - 0s 2ms/step - loss: 0.3406 - accuracy: 0.8793\n",
      "Epoch 107/120\n",
      "229/229 [==============================] - 0s 2ms/step - loss: 0.3397 - accuracy: 0.8801\n",
      "Epoch 108/120\n",
      "229/229 [==============================] - 0s 2ms/step - loss: 0.3387 - accuracy: 0.8800\n",
      "Epoch 109/120\n",
      "229/229 [==============================] - 0s 2ms/step - loss: 0.3375 - accuracy: 0.8810\n",
      "Epoch 110/120\n",
      "229/229 [==============================] - 0s 2ms/step - loss: 0.3368 - accuracy: 0.8809\n",
      "Epoch 111/120\n",
      "229/229 [==============================] - 0s 2ms/step - loss: 0.3358 - accuracy: 0.8817\n",
      "Epoch 112/120\n",
      "229/229 [==============================] - 0s 2ms/step - loss: 0.3345 - accuracy: 0.8817\n",
      "Epoch 113/120\n",
      "229/229 [==============================] - 0s 2ms/step - loss: 0.3335 - accuracy: 0.8827\n",
      "Epoch 114/120\n",
      "229/229 [==============================] - 0s 2ms/step - loss: 0.3326 - accuracy: 0.8823\n",
      "Epoch 115/120\n",
      "229/229 [==============================] - 0s 2ms/step - loss: 0.3312 - accuracy: 0.8826\n",
      "Epoch 116/120\n",
      "229/229 [==============================] - 0s 2ms/step - loss: 0.3311 - accuracy: 0.8832\n",
      "Epoch 117/120\n",
      "229/229 [==============================] - 0s 2ms/step - loss: 0.3296 - accuracy: 0.8834\n",
      "Epoch 118/120\n",
      "229/229 [==============================] - 0s 2ms/step - loss: 0.3287 - accuracy: 0.8839\n",
      "Epoch 119/120\n",
      "229/229 [==============================] - 0s 2ms/step - loss: 0.3279 - accuracy: 0.8846\n",
      "Epoch 120/120\n",
      "229/229 [==============================] - 0s 2ms/step - loss: 0.3267 - accuracy: 0.8845\n"
     ]
    }
   ],
   "source": [
    "# Train the model \n",
    "history = model.fit(train, label_train, batch_size=256, epochs=120)"
   ]
  },
  {
   "cell_type": "markdown",
   "metadata": {},
   "source": [
    "Recall that the dictionary `history` has two entries: the loss and the accuracy achieved using the training set."
   ]
  },
  {
   "cell_type": "code",
   "execution_count": 29,
   "metadata": {},
   "outputs": [
    {
     "data": {
      "text/plain": [
       "dict_keys(['loss', 'accuracy'])"
      ]
     },
     "execution_count": 29,
     "metadata": {},
     "output_type": "execute_result"
    }
   ],
   "source": [
    "history_dict = history.history\n",
    "history_dict.keys()"
   ]
  },
  {
   "cell_type": "markdown",
   "metadata": {},
   "source": [
    "## Plot the results\n",
    "\n",
    "As you might expect, we'll use our `matplotlib` for graphing. Use the data stored in the `history_dict` above to plot the loss vs epochs and the accuracy vs epochs. "
   ]
  },
  {
   "cell_type": "code",
   "execution_count": 31,
   "metadata": {},
   "outputs": [
    {
     "data": {
      "text/plain": [
       "[0.2733675241470337,\n",
       " 0.48222222924232483,\n",
       " 0.602222204208374,\n",
       " 0.6592649817466736,\n",
       " 0.6908717751502991,\n",
       " 0.7118290662765503,\n",
       " 0.7283247709274292,\n",
       " 0.7417606711387634,\n",
       " 0.751606822013855,\n",
       " 0.7609059810638428,\n",
       " 0.7682222127914429,\n",
       " 0.774461567401886,\n",
       " 0.7803589701652527,\n",
       " 0.7863419055938721,\n",
       " 0.7905128002166748,\n",
       " 0.7940341830253601,\n",
       " 0.7989230751991272,\n",
       " 0.8023589849472046,\n",
       " 0.8055384755134583,\n",
       " 0.8094359040260315,\n",
       " 0.8129230737686157,\n",
       " 0.8143760561943054,\n",
       " 0.8161025643348694,\n",
       " 0.8197264671325684,\n",
       " 0.8212820291519165,\n",
       " 0.8234530091285706,\n",
       " 0.8256068229675293,\n",
       " 0.8273675441741943,\n",
       " 0.829316258430481,\n",
       " 0.8308718204498291,\n",
       " 0.8312649726867676,\n",
       " 0.8341196775436401,\n",
       " 0.8358290791511536,\n",
       " 0.8371111154556274,\n",
       " 0.8388547301292419,\n",
       " 0.8394871950149536,\n",
       " 0.8403418660163879,\n",
       " 0.8416752219200134,\n",
       " 0.8436410427093506,\n",
       " 0.8446495532989502,\n",
       " 0.8451794981956482,\n",
       " 0.8455213904380798,\n",
       " 0.8475213646888733,\n",
       " 0.8484444618225098,\n",
       " 0.8491623997688293,\n",
       " 0.8498974442481995,\n",
       " 0.8502393364906311,\n",
       " 0.8512478470802307,\n",
       " 0.8520854711532593,\n",
       " 0.8533504009246826,\n",
       " 0.8534188270568848,\n",
       " 0.8552307486534119,\n",
       " 0.8543418645858765,\n",
       " 0.8559316396713257,\n",
       " 0.8571624159812927,\n",
       " 0.8574358820915222,\n",
       " 0.8584957122802734,\n",
       " 0.8584786057472229,\n",
       " 0.8598119616508484,\n",
       " 0.8598290681838989,\n",
       " 0.8607863187789917,\n",
       " 0.8610427379608154,\n",
       " 0.8612820506095886,\n",
       " 0.8619487285614014,\n",
       " 0.862581193447113,\n",
       " 0.8631795048713684,\n",
       " 0.862991452217102,\n",
       " 0.8632991313934326,\n",
       " 0.8643248081207275,\n",
       " 0.8655555844306946,\n",
       " 0.8656581044197083,\n",
       " 0.8655555844306946,\n",
       " 0.8666837811470032,\n",
       " 0.8673846125602722,\n",
       " 0.8670769333839417,\n",
       " 0.8675042986869812,\n",
       " 0.8684273362159729,\n",
       " 0.8687008619308472,\n",
       " 0.8697093725204468,\n",
       " 0.869982898235321,\n",
       " 0.8701880574226379,\n",
       " 0.8703418970108032,\n",
       " 0.8703760504722595,\n",
       " 0.8708717823028564,\n",
       " 0.8717777729034424,\n",
       " 0.8720341920852661,\n",
       " 0.8717606663703918,\n",
       " 0.8729230761528015,\n",
       " 0.8727179765701294,\n",
       " 0.8741025924682617,\n",
       " 0.8739145398139954,\n",
       " 0.8742734789848328,\n",
       " 0.8740683794021606,\n",
       " 0.8745812177658081,\n",
       " 0.8761196732521057,\n",
       " 0.8761709332466125,\n",
       " 0.8758461475372314,\n",
       " 0.8772478699684143,\n",
       " 0.8771966099739075,\n",
       " 0.8772991299629211,\n",
       " 0.8770256638526917,\n",
       " 0.8777948617935181,\n",
       " 0.8786324858665466,\n",
       " 0.8784786462783813,\n",
       " 0.8785470128059387,\n",
       " 0.8793333172798157,\n",
       " 0.8801025748252869,\n",
       " 0.8799999952316284,\n",
       " 0.8809572458267212,\n",
       " 0.8809230923652649,\n",
       " 0.8816922903060913,\n",
       " 0.881658136844635,\n",
       " 0.8826666474342346,\n",
       " 0.8823248147964478,\n",
       " 0.8826153874397278,\n",
       " 0.8832307457923889,\n",
       " 0.8833504319190979,\n",
       " 0.8838632702827454,\n",
       " 0.8845983147621155,\n",
       " 0.8844786286354065]"
      ]
     },
     "execution_count": 31,
     "metadata": {},
     "output_type": "execute_result"
    }
   ],
   "source": [
    "# Plot the loss vs the number of epoch\n",
    "history_dict['accuracy']"
   ]
  },
  {
   "cell_type": "code",
   "execution_count": 32,
   "metadata": {},
   "outputs": [
    {
     "data": {
      "text/plain": [
       "[<matplotlib.lines.Line2D at 0x7f09a41f5910>]"
      ]
     },
     "execution_count": 32,
     "metadata": {},
     "output_type": "execute_result"
    },
    {
     "data": {
      "image/png": "[encoded data removed]",
      "text/plain": [
       "<Figure size 432x288 with 1 Axes>"
      ]
     },
     "metadata": {
      "needs_background": "light"
     },
     "output_type": "display_data"
    }
   ],
   "source": [
    "# Plot the training accuracy vs the number of epochs\n",
    "plt.plot(history_dict['accuracy'])"
   ]
  },
  {
   "cell_type": "markdown",
   "metadata": {},
   "source": [
    "It seems like we could just keep on going and accuracy would go up!"
   ]
  },
  {
   "cell_type": "markdown",
   "metadata": {},
   "source": [
    "## Make predictions\n",
    "\n",
    "Finally, it's time to make predictions. Use the relevant method discussed in the previous lesson to output (probability) predictions for the test set."
   ]
  },
  {
   "cell_type": "code",
   "execution_count": 34,
   "metadata": {},
   "outputs": [],
   "source": [
    "# Output (probability) predictions for the test set \n",
    "y_hat_test = model.predict(test)"
   ]
  },
  {
   "cell_type": "markdown",
   "metadata": {},
   "source": [
    "## Evaluate Performance\n",
    "\n",
    "Finally, print the loss and accuracy for both the train and test sets of the final trained model."
   ]
  },
  {
   "cell_type": "markdown",
   "metadata": {},
   "source": [
    "# Print the loss and accuracy for the training set \n",
    "results_train = model.## Evaluate the Model\n",
    "\n",
    "Similarly, we can use the `.evaluate()` method in order to compute the loss and other specified metrics for our trained model.\n",
    "\n",
    "For example,   \n",
    "\n",
    "```python\n",
    "model.evaluate(X_train, X_train_labels)\n",
    "``` \n",
    "\n",
    "will return the final loss associated with the model for the training data as well as any other metrics that were specified during compilation.\n",
    "\n",
    "Similarly, \n",
    "\n",
    "```python\n",
    "model.evaluate(X_test, X_test_labels)\n",
    "``` \n",
    "will return the final loss associated with the model for the test data as well as any other specified metrics.\n",
    "(train, label_train)\n",
    "results_train"
   ]
  },
  {
   "cell_type": "code",
   "execution_count": 37,
   "metadata": {},
   "outputs": [
    {
     "name": "stdout",
     "output_type": "stream",
     "text": [
      "1829/1829 [==============================] - 1s 686us/step - loss: 0.3221 - accuracy: 0.8870\n"
     ]
    },
    {
     "data": {
      "text/plain": [
       "[0.3220551609992981, 0.8869572877883911]"
      ]
     },
     "execution_count": 37,
     "metadata": {},
     "output_type": "execute_result"
    }
   ],
   "source": [
    "# Print the loss and accuracy for the test set \n",
    "results_train = model.evaluate(train, label_train)\n",
    "results_train"
   ]
  },
  {
   "cell_type": "code",
   "execution_count": 38,
   "metadata": {},
   "outputs": [
    {
     "name": "stdout",
     "output_type": "stream",
     "text": [
      "47/47 [==============================] - 0s 699us/step - loss: 0.2446 - accuracy: 0.9327\n"
     ]
    },
    {
     "data": {
      "text/plain": [
       "[0.24463064968585968, 0.9326666593551636]"
      ]
     },
     "execution_count": 38,
     "metadata": {},
     "output_type": "execute_result"
    }
   ],
   "source": [
    "# Print the loss and accuracy for the test set \n",
    "results_test = model.evaluate(test, label_test)\n",
    "results_test"
   ]
  },
  {
   "cell_type": "markdown",
   "metadata": {},
   "source": [
    "We can see that the training set results are really good, and the test set results seem to be even better. In general, this type of result will be rare, as train set results are usually at least a bit better than test set results.\n",
    "\n",
    "\n",
    "## Additional Resources \n",
    "\n",
    "- https://github.com/susanli2016/Machine-Learning-with-Python/blob/master/Consumer_complaints.ipynb \n",
    "- https://catalog.data.gov/dataset/consumer-complaint-database \n",
    "\n",
    "## Summary \n",
    "\n",
    "Congratulations! In this lab, you built a neural network thanks to the tools provided by Keras! In upcoming lessons and labs we'll continue to investigate further ideas regarding how to tune and refine these models for increased accuracy and performance."
   ]
  }
 ],
 "metadata": {
  "kernelspec": {
   "display_name": "Python 3",
   "language": "python",
   "name": "python3"
  },
  "language_info": {
   "codemirror_mode": {
    "name": "ipython",
    "version": 3
   },
   "file_extension": ".py",
   "mimetype": "text/x-python",
   "name": "python",
   "nbconvert_exporter": "python",
   "pygments_lexer": "ipython3",
   "version": "3.8.5"
  },
  "toc": {
   "base_numbering": 1,
   "nav_menu": {},
   "number_sections": true,
   "sideBar": true,
   "skip_h1_title": false,
   "title_cell": "Table of Contents",
   "title_sidebar": "Contents",
   "toc_cell": false,
   "toc_position": {},
   "toc_section_display": true,
   "toc_window_display": false
  }
 },
 "nbformat": 4,
 "nbformat_minor": 2
}
